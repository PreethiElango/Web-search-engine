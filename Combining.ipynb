{
 "cells": [
  {
   "cell_type": "code",
   "execution_count": 1,
   "metadata": {},
   "outputs": [],
   "source": [
    "from web_crawling import url_traversing\n",
    "from Text_operations import content_processing,query_processing,tfidf_topelements,get_input"
   ]
  },
  {
   "cell_type": "markdown",
   "metadata": {},
   "source": [
    "If you want to initiate web crawling starting from url of your choice.\n",
    "Please run the below cell by passing url as a parameter. If not please skip the \n",
    "cell as i have already extracted all necessary contents"
   ]
  },
  {
   "cell_type": "code",
   "execution_count": null,
   "metadata": {},
   "outputs": [],
   "source": [
    "# url_traversing(\"https:\\\\www.cs.uic.edu\")"
   ]
  },
  {
   "cell_type": "markdown",
   "metadata": {},
   "source": [
    "As we have collected all the links and content of the page from previous step. Run the below cell\n",
    "to get TFIDF vectcor for query matching. If you skipped step 1, please avoid step 2 as well. Because i have\n",
    "already did this step and saved it"
   ]
  },
  {
   "cell_type": "code",
   "execution_count": null,
   "metadata": {},
   "outputs": [],
   "source": [
    "# content_processing()"
   ]
  },
  {
   "cell_type": "markdown",
   "metadata": {},
   "source": [
    "Now, that we have collected all our data and did all the necessary preprocessing. We will query and find the matching links."
   ]
  },
  {
   "cell_type": "code",
   "execution_count": 4,
   "metadata": {},
   "outputs": [],
   "source": [
    "from IPython.display import display, Markdown, clear_output\n",
    "import ipywidgets as widgets\n",
    "\n",
    "# label .end\n",
    "k=get_input()\n",
    "More_links = widgets.Button(description='More Links')\n",
    "Exit = widgets.Button(description='Exit')\n",
    "out = widgets.Output()\n",
    "count=[-1]\n",
    "def more_button_clicked(_,inc=1):\n",
    "    with out:\n",
    "        count[0]+=inc\n",
    "        clear_output()\n",
    "        if (count[0]*10)+11<len(k)-1 and k:\n",
    "            for i in range(count[0]*10,(count[0]*10)+11):\n",
    "                print(k[i][0])\n",
    "        else:\n",
    "            print(\"End of list\")\n",
    "More_links.on_click(more_button_clicked)\n",
    "def exit_button_clicked(_):\n",
    "    print(\"End of searching\")\n",
    "    clear_output()\n",
    "    return\n",
    "Exit.on_click(exit_button_clicked)\n",
    "buttons=widgets.HBox([More_links,Exit])\n",
    "widgets.VBox([buttons,out])"
   ]
  }
 ],
 "metadata": {
  "kernelspec": {
   "display_name": "Python 3",
   "language": "python",
   "name": "python3"
  },
  "language_info": {
   "codemirror_mode": {
    "name": "ipython",
    "version": 3
   },
   "file_extension": ".py",
   "mimetype": "text/x-python",
   "name": "python",
   "nbconvert_exporter": "python",
   "pygments_lexer": "ipython3",
   "version": "3.7.3"
  }
 },
 "nbformat": 4,
 "nbformat_minor": 2
}
